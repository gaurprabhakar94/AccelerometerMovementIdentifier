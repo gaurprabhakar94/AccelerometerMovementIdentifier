{
 "cells": [
  {
   "cell_type": "markdown",
   "metadata": {},
   "source": [
    "Human activity monitoring is a growing field within data science. It has practical use within the healthcare industry, particular with tracking the elderly to make sure they don't end up doing things which might cause them to hurt themselves. Governments are also very interested in it do that they can detect unusual crowd activities, perimeter breaches, or the identification of specific activities, such as loitering, littering, or fighting. Fitness apps also make use of activity monitoring to better estimate the amount of calories used by the body during a period of time.\n",
    "\n",
    "We will be training a random forest against a public domain Human Activity Dataset titled Wearable Computing: Accelerometers' Data Classification of Body Postures and Movements, containing 165,633, one of which is invalid. Within this dataset, there are five target activities:\n",
    "    1. Sitting\n",
    "    2. Sitting Down\n",
    "    3. Standing\n",
    "    4. Standing Up\n",
    "    5. Walking\n",
    "\n",
    "These activities were captured from four people wearing accelerometers mounted on their waist, left thigh, right arm, and right ankle."
   ]
  },
  {
   "cell_type": "code",
   "execution_count": 1,
   "metadata": {},
   "outputs": [],
   "source": [
    "import pandas as pd\n",
    "import time\n",
    "import os\n",
    "from sklearn.ensemble import RandomForestClassifier\n",
    "from sklearn.model_selection import train_test_split\n",
    "import warnings \n",
    "warnings.filterwarnings(\"ignore\")\n",
    "import pandas as pd\n",
    "import numpy as np\n",
    "# Grab the DLA HAR dataset from:\n",
    "# http://groupware.les.inf.puc-rio.br/har\n",
    "# http://groupware.les.inf.puc-rio.br/static/har/dataset-har-PUC-Rio-ugulino.zip"
   ]
  },
  {
   "cell_type": "code",
   "execution_count": 2,
   "metadata": {},
   "outputs": [
    {
     "name": "stdout",
     "output_type": "stream",
     "text": [
      "     user gender  age  how_tall_in_meters  weight  body_mass_index  x1  y1  \\\n",
      "0  debora  Woman   46                1.62      75             28.6  -3  92   \n",
      "1  debora  Woman   46                1.62      75             28.6  -3  94   \n",
      "\n",
      "   z1  x2  y2  z2  x3   y3  z3   x4   y4    z4    class  \n",
      "0 -63 -23  18 -19   5  104 -92 -150 -103  -147  sitting  \n",
      "1 -64 -21  18 -18 -14  104 -90 -149 -104  -145  sitting  \n"
     ]
    }
   ],
   "source": [
    "#\n",
    "# Loading up the dataset into dataframe 'X'\n",
    "#\n",
    "X = pd.read_csv(\"Datasets\\\\dataset-har-PUC-Rio-ugulino.csv\", sep=';', header=0, decimal = ',')\n",
    "print(X.head(2))"
   ]
  },
  {
   "cell_type": "code",
   "execution_count": 3,
   "metadata": {},
   "outputs": [
    {
     "name": "stdout",
     "output_type": "stream",
     "text": [
      "                 age  how_tall_in_meters         weight  body_mass_index  \\\n",
      "count  165633.000000       165633.000000  165633.000000    165633.000000   \n",
      "mean       38.265146            1.639712      70.819408        26.188522   \n",
      "std        13.184091            0.052820      11.296527         2.995777   \n",
      "min        28.000000            1.580000      55.000000        22.000000   \n",
      "25%        28.000000            1.580000      55.000000        22.000000   \n",
      "50%        31.000000            1.620000      75.000000        28.400000   \n",
      "75%        46.000000            1.710000      83.000000        28.600000   \n",
      "max        75.000000            1.710000      83.000000        28.600000   \n",
      "\n",
      "                  x1             y1             z1             x2  \\\n",
      "count  165633.000000  165633.000000  165633.000000  165633.000000   \n",
      "mean       -6.649327      88.293667     -93.164611     -87.827504   \n",
      "std        11.616238      23.895829      39.409423     169.435194   \n",
      "min      -306.000000    -271.000000    -603.000000    -494.000000   \n",
      "25%       -12.000000      78.000000    -120.000000     -35.000000   \n",
      "50%        -6.000000      94.000000     -98.000000      -9.000000   \n",
      "75%         0.000000     101.000000     -64.000000       4.000000   \n",
      "max       509.000000     533.000000     411.000000     473.000000   \n",
      "\n",
      "                  y2             z2             x3             y3  \\\n",
      "count  165633.000000  165633.000000  165633.000000  165633.000000   \n",
      "mean      -52.065047    -175.055200      17.423515     104.517167   \n",
      "std       205.159763     192.816615      52.635388      54.155843   \n",
      "min      -517.000000    -617.000000    -499.000000    -506.000000   \n",
      "25%       -29.000000    -141.000000       9.000000      95.000000   \n",
      "50%        27.000000    -118.000000      22.000000     107.000000   \n",
      "75%        86.000000     -29.000000      34.000000     120.000000   \n",
      "max       295.000000     122.000000     507.000000     517.000000   \n",
      "\n",
      "                  z3             x4             y4  \n",
      "count  165633.000000  165633.000000  165633.000000  \n",
      "mean      -93.881726    -167.641448     -92.625171  \n",
      "std        45.389646      38.311342      19.968610  \n",
      "min      -613.000000    -702.000000    -526.000000  \n",
      "25%      -103.000000    -190.000000    -103.000000  \n",
      "50%       -90.000000    -168.000000     -91.000000  \n",
      "75%       -80.000000    -153.000000     -80.000000  \n",
      "max       410.000000     -13.000000      86.000000  \n"
     ]
    }
   ],
   "source": [
    "# Exploring the numerical data\n",
    "print(X.describe())"
   ]
  },
  {
   "cell_type": "code",
   "execution_count": 4,
   "metadata": {},
   "outputs": [
    {
     "name": "stdout",
     "output_type": "stream",
     "text": [
      "          user  gender      z4    class\n",
      "count   165633  165633  165633   165633\n",
      "unique       4       2     276        5\n",
      "top     debora   Woman    -163  sitting\n",
      "freq     51577  101374    5698    50631\n"
     ]
    }
   ],
   "source": [
    "# Exploring the categorical data\n",
    "print (X.describe(include=['O']))"
   ]
  },
  {
   "cell_type": "code",
   "execution_count": 5,
   "metadata": {},
   "outputs": [
    {
     "name": "stdout",
     "output_type": "stream",
     "text": [
      "user                   object\n",
      "gender                 object\n",
      "age                     int64\n",
      "how_tall_in_meters    float64\n",
      "weight                  int64\n",
      "body_mass_index       float64\n",
      "x1                      int64\n",
      "y1                      int64\n",
      "z1                      int64\n",
      "x2                      int64\n",
      "y2                      int64\n",
      "z2                      int64\n",
      "x3                      int64\n",
      "y3                      int64\n",
      "z3                      int64\n",
      "x4                      int64\n",
      "y4                      int64\n",
      "z4                     object\n",
      "class                  object\n",
      "dtype: object\n"
     ]
    }
   ],
   "source": [
    "# Checking the data types\n",
    "print (X.dtypes)"
   ]
  },
  {
   "cell_type": "markdown",
   "metadata": {},
   "source": [
    "We make the following observations: \n",
    "    1. z4 has a type of object even though it has just numbers. \n",
    "    2. gender attribute has just two values and is of type object."
   ]
  },
  {
   "cell_type": "code",
   "execution_count": 6,
   "metadata": {},
   "outputs": [],
   "source": [
    "#\n",
    "# Encoding the gender column, 0 as male, 1 as female\n",
    "#\n",
    "X.gender = X.gender.map({'Man': 0, 'Woman': 1})"
   ]
  },
  {
   "cell_type": "code",
   "execution_count": 7,
   "metadata": {},
   "outputs": [
    {
     "name": "stdout",
     "output_type": "stream",
     "text": [
      "False\n"
     ]
    }
   ],
   "source": [
    "# \n",
    "# Checking for null values and removing them\n",
    "#\n",
    "print (X.isnull().values.any())"
   ]
  },
  {
   "cell_type": "code",
   "execution_count": 8,
   "metadata": {},
   "outputs": [],
   "source": [
    "# Running the code without running this cell gives an error --\n",
    "# ValueError: Unable to parse string \"-14420-11-2011 04:50:23.713\"\n",
    "# And this error is encountered while coercing the values in the z4 variable.\n",
    "# Now, this is a bad value and instead of treating it, we will discard it completely\n",
    "\n",
    "# Let us find the index where this bad value sits\n",
    "X.index[X['z4'] == \"-14420-11-2011 04:50:23.713\"].tolist()\n",
    "\n",
    "# Now let us drop this row from the dataset\n",
    "X = (X.drop(X.index[122076]))"
   ]
  },
  {
   "cell_type": "code",
   "execution_count": 9,
   "metadata": {},
   "outputs": [],
   "source": [
    "# Treating the z4 column to convert it back to int64\n",
    "X.z4 = pd.to_numeric(X.z4, errors = 'raise')"
   ]
  },
  {
   "cell_type": "code",
   "execution_count": 10,
   "metadata": {},
   "outputs": [
    {
     "name": "stdout",
     "output_type": "stream",
     "text": [
      "              gender            age  how_tall_in_meters         weight  \\\n",
      "count  165632.000000  165632.000000       165632.000000  165632.000000   \n",
      "mean        0.612044      38.264925            1.639712      70.819431   \n",
      "std         0.487286      13.183821            0.052820      11.296557   \n",
      "min         0.000000      28.000000            1.580000      55.000000   \n",
      "25%         0.000000      28.000000            1.580000      55.000000   \n",
      "50%         1.000000      31.000000            1.620000      75.000000   \n",
      "75%         1.000000      46.000000            1.710000      83.000000   \n",
      "max         1.000000      75.000000            1.710000      83.000000   \n",
      "\n",
      "       body_mass_index             x1             y1             z1  \\\n",
      "count    165632.000000  165632.000000  165632.000000  165632.000000   \n",
      "mean         26.188535      -6.649319      88.293591     -93.164449   \n",
      "std           2.995781      11.616273      23.895881      39.409487   \n",
      "min          22.000000    -306.000000    -271.000000    -603.000000   \n",
      "25%          22.000000     -12.000000      78.000000    -120.000000   \n",
      "50%          28.400000      -6.000000      94.000000     -98.000000   \n",
      "75%          28.600000       0.000000     101.000000     -64.000000   \n",
      "max          28.600000     509.000000     533.000000     411.000000   \n",
      "\n",
      "                  x2             y2             z2             x3  \\\n",
      "count  165632.000000  165632.000000  165632.000000  165632.000000   \n",
      "mean      -87.827956     -52.065911    -175.055647      17.423517   \n",
      "std       169.435606     205.160081     192.817111      52.635546   \n",
      "min      -494.000000    -517.000000    -617.000000    -499.000000   \n",
      "25%       -35.000000     -29.000000    -141.000000       9.000000   \n",
      "50%        -9.000000      27.000000    -118.000000      22.000000   \n",
      "75%         4.000000      86.000000     -29.000000      34.000000   \n",
      "max       473.000000     295.000000     122.000000     507.000000   \n",
      "\n",
      "                  y3             z3             x4             y4  \\\n",
      "count  165632.000000  165632.000000  165632.000000  165632.000000   \n",
      "mean      104.517056     -93.881641    -167.641211     -92.625235   \n",
      "std        54.155987      45.389770      38.311336      19.968653   \n",
      "min      -506.000000    -613.000000    -702.000000    -526.000000   \n",
      "25%        95.000000    -103.000000    -190.000000    -103.000000   \n",
      "50%       107.000000     -90.000000    -168.000000     -91.000000   \n",
      "75%       120.000000     -80.000000    -153.000000     -80.000000   \n",
      "max       517.000000     410.000000     -13.000000      86.000000   \n",
      "\n",
      "                  z4  \n",
      "count  165632.000000  \n",
      "mean     -159.650985  \n",
      "std        13.221020  \n",
      "min      -537.000000  \n",
      "25%      -167.000000  \n",
      "50%      -160.000000  \n",
      "75%      -153.000000  \n",
      "max       -43.000000  \n",
      "Empty DataFrame\n",
      "Columns: [gender, age, how_tall_in_meters, weight, body_mass_index, x1, y1, z1, x2, y2, z2, x3, y3, z3, x4, y4, z4]\n",
      "Index: []\n"
     ]
    }
   ],
   "source": [
    "# Extracting the labels\n",
    "y = X[\"class\"]\n",
    "y =pd.get_dummies(y)\n",
    "\n",
    "# The attribute user will not help us here because we are \n",
    "# generalizing postures and movements across users and not predicting \n",
    "# postures and movements for each user. \n",
    "# Hence, the user variable has not much importance in our model\n",
    "\n",
    "X.drop([\"user\",\"class\"], inplace=True, axis = 1)\n",
    "print (X.describe())\n",
    "\n",
    "print (X[pd.isnull(X).any(axis=1)])"
   ]
  },
  {
   "cell_type": "code",
   "execution_count": 11,
   "metadata": {},
   "outputs": [],
   "source": [
    "# Now, that our data is ready, let us split into training and testing datasets\n",
    "X_train, X_test, y_train, y_test = train_test_split(X, y, test_size=.3, random_state=7)"
   ]
  },
  {
   "cell_type": "code",
   "execution_count": 12,
   "metadata": {},
   "outputs": [],
   "source": [
    "#\n",
    "# Creating an RForest classifier model\n",
    "#\n",
    "model = RandomForestClassifier(n_estimators = 30, max_depth = 10, oob_score = True, random_state = 0)"
   ]
  },
  {
   "cell_type": "code",
   "execution_count": 13,
   "metadata": {},
   "outputs": [
    {
     "name": "stdout",
     "output_type": "stream",
     "text": [
      "Fitting...\n",
      "Fitting completed in:  14.174395322799683\n",
      "OOB Score:  98.744\n"
     ]
    }
   ],
   "source": [
    "print (\"Fitting...\")\n",
    "s = time.time()\n",
    "#\n",
    "# Training the model on your training set\n",
    "#\n",
    "model.fit(X_train,y_train)\n",
    "print (\"Fitting completed in: \", time.time() - s)\n",
    "\n",
    "score = model.oob_score_\n",
    "print (\"OOB Score: \", round(score*100, 3))"
   ]
  },
  {
   "cell_type": "code",
   "execution_count": 14,
   "metadata": {},
   "outputs": [
    {
     "name": "stdout",
     "output_type": "stream",
     "text": [
      "Scoring...\n",
      "Score:  95.687\n",
      "Scoring completed in:  0.7184772491455078\n"
     ]
    }
   ],
   "source": [
    "print (\"Scoring...\")\n",
    "s = time.time()\n",
    "#\n",
    "# Scoring the model on your test set\n",
    "#\n",
    "score = model.score(X_test,y_test)\n",
    "print (\"Score: \", round(score*100, 3))\n",
    "print (\"Scoring completed in: \", time.time() - s)"
   ]
  }
 ],
 "metadata": {
  "kernelspec": {
   "display_name": "Python 3",
   "language": "python",
   "name": "python3"
  },
  "language_info": {
   "codemirror_mode": {
    "name": "ipython",
    "version": 3
   },
   "file_extension": ".py",
   "mimetype": "text/x-python",
   "name": "python",
   "nbconvert_exporter": "python",
   "pygments_lexer": "ipython3",
   "version": "3.6.6"
  }
 },
 "nbformat": 4,
 "nbformat_minor": 2
}
